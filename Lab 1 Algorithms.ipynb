{
 "cells": [
  {
   "cell_type": "markdown",
   "id": "9b22131e",
   "metadata": {},
   "source": [
    "## Binary Search Recursive"
   ]
  },
  {
   "cell_type": "code",
   "execution_count": 5,
   "id": "a20113b7",
   "metadata": {},
   "outputs": [
    {
     "name": "stdout",
     "output_type": "stream",
     "text": [
      "Element 3 is at index  1\n"
     ]
    }
   ],
   "source": [
    "def binarySearch(list1, l, r, x):\n",
    "  \n",
    "    if r >= l:\n",
    "  \n",
    "        mid = l + (r - l) // 2  \n",
    "  \n",
    "        if list1[mid] == x:\n",
    "            return mid\n",
    "  \n",
    "        elif list1[mid] > x:1\n",
    "            return binarySearch(list1, l, mid-, x)\n",
    "          \n",
    "        else:\n",
    "            return binarySearch(list1, mid + 1, r, x)\n",
    "  \n",
    "    else:\n",
    "        return -1\n",
    "    \n",
    "list1 = [2, 3, 4, 10, 40, 60, 80, 121]\n",
    "x = 3\n",
    "  \n",
    "result = binarySearch(list1, 0, len(list1)-1, x)\n",
    "  \n",
    "if result != -1:\n",
    "    print(f\"Element {x} is at index \" ,  result)\n",
    "else:\n",
    "    print(\"Element is not present in array\")\n",
    "    \n",
    "##Time complexity is O(nlog(n))"
   ]
  },
  {
   "cell_type": "markdown",
   "id": "c7db44cd",
   "metadata": {},
   "source": [
    "## Binary Search Iterative"
   ]
  },
  {
   "cell_type": "code",
   "execution_count": 4,
   "id": "c6db0fe7",
   "metadata": {},
   "outputs": [
    {
     "name": "stdout",
     "output_type": "stream",
     "text": [
      "Element 40 is at index  4\n"
     ]
    }
   ],
   "source": [
    "def binarySearch(list2, l, r, x):  \n",
    "    while l <= r:\n",
    "        mid = l + (r - l) // 2\n",
    "  \n",
    "        if list2[mid] == x:\n",
    "            return mid\n",
    "        \n",
    "        elif list2[mid] < x:\n",
    "            l = mid + 1\n",
    "            \n",
    "        else:\n",
    "            r = mid - 1\n",
    "  \n",
    "    return -1\n",
    "    \n",
    "list2 = [2, 3, 4, 10, 40, 60, 80]\n",
    "x = 40\n",
    "  \n",
    "result = binarySearch(list2, 0, len(list1)-1, x)\n",
    "  \n",
    "if result != -1:\n",
    "    print(f\"Element {x} is at index \" , result)\n",
    "else:\n",
    "    print(\"Element is not present in array\")\n",
    "    \n",
    "##Time complexity is O(log(n))"
   ]
  },
  {
   "cell_type": "markdown",
   "id": "3fe66672",
   "metadata": {},
   "source": [
    "## Power Recursive"
   ]
  },
  {
   "cell_type": "code",
   "execution_count": 8,
   "id": "4282a5d9",
   "metadata": {},
   "outputs": [
    {
     "name": "stdout",
     "output_type": "stream",
     "text": [
      "enter number  \n",
      "2\n",
      "enter power \n",
      "3\n",
      "the result is =  8\n"
     ]
    }
   ],
   "source": [
    "def powerRecursive(x,y):\n",
    "    if y == 0:\n",
    "        return 1\n",
    "    elif y == 1:\n",
    "        return x\n",
    "    else:\n",
    "        return (x*powerRecursive(x, y-1))   \n",
    "x = int(input(\"enter number  \\n\"))\n",
    "y = int(input(\"enter power \\n\"))\n",
    "print(\"the result is = \" ,powerRecursive(x,y))\n",
    "#time complexity is O(n)"
   ]
  },
  {
   "cell_type": "markdown",
   "id": "6d3bb3ae",
   "metadata": {},
   "source": [
    "## Power Iterative"
   ]
  },
  {
   "cell_type": "code",
   "execution_count": 9,
   "id": "7b74a957",
   "metadata": {},
   "outputs": [
    {
     "name": "stdout",
     "output_type": "stream",
     "text": [
      "enter number \n",
      "2\n",
      "enter power \n",
      "0\n",
      "the result is =  1\n"
     ]
    }
   ],
   "source": [
    "def powerIter(x,y):\n",
    "    result = 1\n",
    "    for i in range(y):\n",
    "        result *= x\n",
    "    return result\n",
    "x = int(input(\"enter number \\n\"))\n",
    "y = int(input(\"enter power \\n\"))\n",
    "print(\"the result is = \" ,powerIter(x,y))\n",
    "\n",
    "#time complexity is O(n)"
   ]
  }
 ],
 "metadata": {
  "kernelspec": {
   "display_name": "Python 3 (ipykernel)",
   "language": "python",
   "name": "python3"
  },
  "language_info": {
   "codemirror_mode": {
    "name": "ipython",
    "version": 3
   },
   "file_extension": ".py",
   "mimetype": "text/x-python",
   "name": "python",
   "nbconvert_exporter": "python",
   "pygments_lexer": "ipython3",
   "version": "3.9.7"
  }
 },
 "nbformat": 4,
 "nbformat_minor": 5
}
