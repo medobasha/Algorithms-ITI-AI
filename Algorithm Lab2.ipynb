{
 "cells": [
  {
   "cell_type": "markdown",
   "id": "910edf90",
   "metadata": {},
   "source": [
    "# Karatsuba"
   ]
  },
  {
   "cell_type": "code",
   "execution_count": 12,
   "id": "98aac2a7",
   "metadata": {},
   "outputs": [],
   "source": [
    "def karatsuba(x,y):\n",
    "    #Function to multiply 2 numbers\n",
    "    xL = len(str(x))\n",
    "    yL = len(str(y))\n",
    "    \n",
    "    #if length of x and y are 1 like 3 and 4 so we multiply directly as it's 12\n",
    "    if xL == 1 or yL == 1:\n",
    "        return x*y\n",
    "    \n",
    "    \n",
    "    #if length is bigger than 1\n",
    "    else:\n",
    "        #get maximum number of those 2 numbers\n",
    "        n = max(xL,yL)  ##if x = 123456 , y = 789101    len will be 6       -> a = 123 , c = 789 max len will be 3\n",
    "        ndiv2 = n // 2\n",
    "     \n",
    "    \n",
    "        #x split\n",
    "        a = x // 10**(ndiv2)  ##123     --> new a= 12\n",
    "        b = x % 10**(ndiv2)  ##456      --> new b = 3\n",
    "      \n",
    "    \n",
    "    \n",
    "        #y split\n",
    "        c = y // 10**(ndiv2)  ##789\n",
    "        d = y % 10**(ndiv2)  ##101\n",
    "        \n",
    "        # initialize coefficients\n",
    "        a_c = karatsuba(a,c)  \n",
    "        \n",
    "        b_d = karatsuba(b,d)\n",
    "        ad_plus_bc = karatsuba(a+b,c+d) - a_c - b_d\n",
    "        \n",
    "    \n",
    "        product = a_c * 10**(2*ndiv2) + (ad_plus_bc * 10**ndiv2) + b_d\n",
    "\n",
    "        return product"
   ]
  },
  {
   "cell_type": "code",
   "execution_count": 13,
   "id": "2626d598",
   "metadata": {},
   "outputs": [
    {
     "name": "stdout",
     "output_type": "stream",
     "text": [
      "97419253056\n"
     ]
    }
   ],
   "source": [
    "num1 = 123456\n",
    "num2 = 789101\n",
    "print(karatsuba( num1 , num2 ))"
   ]
  },
  {
   "cell_type": "markdown",
   "id": "57c5b172",
   "metadata": {},
   "source": [
    "# Quick Sort"
   ]
  },
  {
   "cell_type": "code",
   "execution_count": 9,
   "id": "5e4335a4",
   "metadata": {},
   "outputs": [
    {
     "name": "stdout",
     "output_type": "stream",
     "text": [
      "[1, 2, 3, 5, 6, 7, 8, 22]\n"
     ]
    }
   ],
   "source": [
    "def Qpartition(arr , start , end):\n",
    "    #choose last element in list as pivot\n",
    "    pivot = arr[end]\n",
    "    pIndex = start\n",
    "    \n",
    "    #loop through elements from start\n",
    "    for i in range(start , end+1):\n",
    "        if arr[i] < pivot:\n",
    "            arr[i] , arr[pIndex] = arr[pIndex] , arr[i]\n",
    "            #increment pindex by 1\n",
    "            pIndex += 1\n",
    "    ##at the end , swap pindex with pivot        \n",
    "    arr[pIndex] , arr[end] = arr[end] , arr[pIndex]\n",
    "    \n",
    "    return pIndex\n",
    "\n",
    "def QuickSort(arr , start , last):\n",
    "    if start < last:\n",
    "        pIndex = Qpartition(arr , start , last)\n",
    "        QuickSort(arr , start , pIndex-1)\n",
    "        QuickSort(arr, pIndex +1 , last)\n",
    "\n",
    "arr = [ 2 , 8 , 22 , 1 , 7 , 5 , 6 , 3]\n",
    "QuickSort(arr, 0 , len(arr) - 1)\n",
    "print(arr)"
   ]
  },
  {
   "cell_type": "code",
   "execution_count": 2,
   "id": "94629d3b",
   "metadata": {},
   "outputs": [],
   "source": []
  },
  {
   "cell_type": "code",
   "execution_count": null,
   "id": "065b194e",
   "metadata": {},
   "outputs": [],
   "source": []
  },
  {
   "cell_type": "code",
   "execution_count": null,
   "id": "74ec5032",
   "metadata": {},
   "outputs": [],
   "source": []
  }
 ],
 "metadata": {
  "kernelspec": {
   "display_name": "Python 3 (ipykernel)",
   "language": "python",
   "name": "python3"
  },
  "language_info": {
   "codemirror_mode": {
    "name": "ipython",
    "version": 3
   },
   "file_extension": ".py",
   "mimetype": "text/x-python",
   "name": "python",
   "nbconvert_exporter": "python",
   "pygments_lexer": "ipython3",
   "version": "3.9.7"
  }
 },
 "nbformat": 4,
 "nbformat_minor": 5
}
