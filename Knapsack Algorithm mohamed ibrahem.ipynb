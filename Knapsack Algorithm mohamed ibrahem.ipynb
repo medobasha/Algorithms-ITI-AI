{
 "cells": [
  {
   "cell_type": "code",
   "execution_count": null,
   "id": "02271cb5",
   "metadata": {},
   "outputs": [],
   "source": []
  },
  {
   "cell_type": "code",
   "execution_count": 14,
   "id": "0ea2c920",
   "metadata": {},
   "outputs": [
    {
     "name": "stdout",
     "output_type": "stream",
     "text": [
      "The maximum value of items that can be carried: 46.0\n"
     ]
    }
   ],
   "source": [
    "def minweight_knapsack(value, weight, capacity):\n",
    "    n=len(weight)\n",
    "    index=list(range(n))\n",
    "    index.sort(key=lambda i:weight[i],reverse=False)\n",
    "    max_value=0\n",
    "    for i in index:\n",
    "        if weight[i] <= capacity:\n",
    "            max_value += value[i]\n",
    "            capacity -= weight[i]\n",
    "        else:\n",
    "            max_value += value[i]*capacity/weight[i]\n",
    "            break\n",
    " \n",
    "    return max_value\n",
    " \n",
    "\n",
    "value= [5,10,15,7,8,9,4]\n",
    "weight= [1,3,5,4,1,3,2]   \n",
    "capacity= 15\n",
    "max_value=minweight_knapsack(value, weight, capacity)\n",
    "print('The maximum value of items that can be carried:', max_value)"
   ]
  },
  {
   "cell_type": "code",
   "execution_count": 15,
   "id": "1c8e6587",
   "metadata": {},
   "outputs": [
    {
     "name": "stdout",
     "output_type": "stream",
     "text": [
      "The maximum value of items that can be carried: 47.25\n"
     ]
    }
   ],
   "source": [
    "def maxprofit_knapsack(value, weight, capacity):\n",
    "    n=len(weight)\n",
    "    index=list(range(n))\n",
    "    index.sort(key=lambda i:value[i],reverse=True)\n",
    "    max_value=0\n",
    "    for i in index:\n",
    "        if weight[i] <= capacity:\n",
    "            max_value += value[i]\n",
    "            capacity -= weight[i]\n",
    "        else:\n",
    "            max_value += value[i]*capacity/weight[i]\n",
    "            break\n",
    " \n",
    "    return max_value\n",
    " \n",
    "\n",
    "value= [5,10,15,7,8,9,4]\n",
    "weight= [1,3,5,4,1,3,2]   \n",
    "capacity= 15\n",
    "max_value= maxprofit_knapsack(value, weight, capacity)\n",
    "print('The maximum value of items that can be carried:', max_value)"
   ]
  },
  {
   "cell_type": "code",
   "execution_count": null,
   "id": "c0b2174b",
   "metadata": {},
   "outputs": [],
   "source": []
  }
 ],
 "metadata": {
  "kernelspec": {
   "display_name": "Python 3 (ipykernel)",
   "language": "python",
   "name": "python3"
  },
  "language_info": {
   "codemirror_mode": {
    "name": "ipython",
    "version": 3
   },
   "file_extension": ".py",
   "mimetype": "text/x-python",
   "name": "python",
   "nbconvert_exporter": "python",
   "pygments_lexer": "ipython3",
   "version": "3.9.7"
  }
 },
 "nbformat": 4,
 "nbformat_minor": 5
}
