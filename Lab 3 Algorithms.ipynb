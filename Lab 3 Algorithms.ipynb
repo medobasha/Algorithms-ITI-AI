{
 "cells": [
  {
   "cell_type": "code",
   "execution_count": 1,
   "id": "2658e312",
   "metadata": {},
   "outputs": [],
   "source": [
    "#maximum profit\n",
    "def fractionalknapsack(W, weights, profits):\n",
    "    n = len(profits)\n",
    "    data = zip(weights, profits)\n",
    "    data = sorted(data, key=lambda x:x[1], reverse=True) \n",
    "    totalValue = 0\n",
    "  \n",
    "    for i in data:\n",
    "        current_weight = i[0]\n",
    "        current_profit = i[1]\n",
    "\n",
    "        if current_weight <= W:\n",
    "            W -= current_weight\n",
    "            totalValue += current_profit\n",
    "        else:\n",
    "            fraction = W/current_weight\n",
    "            totalValue += (current_profit * fraction)\n",
    "            W -= current_profit*fraction\n",
    "            break\n",
    "        \n",
    "    return totalValue\n"
   ]
  },
  {
   "cell_type": "code",
   "execution_count": 2,
   "id": "d443a095",
   "metadata": {},
   "outputs": [],
   "source": [
    "#maximum profit\n",
    "def fractionalknapsack(W, weights, profits):\n",
    "    n = len(profits)\n",
    "    data = zip(weights, profits)\n",
    "    data = sorted(data, key=lambda x:x[1], reverse=True) #sort profits decen\n",
    "    totalValue = 0\n",
    "  \n",
    "    for i in data:\n",
    "        current_weight = i[0]\n",
    "        current_profit = i[1]\n",
    "\n",
    "        if current_weight <= W:\n",
    "            W -= current_weight\n",
    "            totalValue += current_profit\n",
    "        else:\n",
    "            fraction = W/current_weight\n",
    "            totalValue += (current_profit * fraction)\n",
    "            W -= current_profit*fraction\n",
    "            break\n",
    "        \n",
    "    return totalValue\n"
   ]
  },
  {
   "cell_type": "code",
   "execution_count": 3,
   "id": "3aee0eb6",
   "metadata": {},
   "outputs": [
    {
     "name": "stdout",
     "output_type": "stream",
     "text": [
      "44.42857142857143\n"
     ]
    }
   ],
   "source": [
    "value = [15,20,18,12,7]\n",
    "weight = [70,30,40,25,15]   \n",
    "capacity = 100\n",
    "\n",
    "max_value1 = fractionalknapsack(capacity, weight, value)\n",
    "print(max_value1)"
   ]
  },
  {
   "cell_type": "code",
   "execution_count": null,
   "id": "65b63eb8",
   "metadata": {},
   "outputs": [],
   "source": []
  }
 ],
 "metadata": {
  "kernelspec": {
   "display_name": "Python 3 (ipykernel)",
   "language": "python",
   "name": "python3"
  },
  "language_info": {
   "codemirror_mode": {
    "name": "ipython",
    "version": 3
   },
   "file_extension": ".py",
   "mimetype": "text/x-python",
   "name": "python",
   "nbconvert_exporter": "python",
   "pygments_lexer": "ipython3",
   "version": "3.9.7"
  }
 },
 "nbformat": 4,
 "nbformat_minor": 5
}
